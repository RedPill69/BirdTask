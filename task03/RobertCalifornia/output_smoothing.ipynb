{
 "cells": [
  {
   "cell_type": "code",
   "execution_count": 2,
   "metadata": {},
   "outputs": [],
   "source": [
    "import numpy as np\n",
    "from data_loader import load_challenge, save_challenge"
   ]
  },
  {
   "cell_type": "code",
   "execution_count": 3,
   "metadata": {},
   "outputs": [
    {
     "name": "stdout",
     "output_type": "stream",
     "text": [
      "(16, 3000)\n"
     ]
    },
    {
     "name": "stderr",
     "output_type": "stream",
     "text": [
      "C:\\Users\\Niklas\\AppData\\Local\\Temp\\ipykernel_15228\\2313499267.py:1: RuntimeWarning: invalid value encountered in cast\n",
      "  data = np.genfromtxt('outputs/testbert.csv', delimiter=',', skip_header=0).astype(int)\n"
     ]
    }
   ],
   "source": [
    "data = np.genfromtxt('outputs/testbert.csv', delimiter=',', skip_header=0).astype(int)\n",
    "data = data[:, 1:]\n",
    "\n",
    "print(data.shape)\n",
    "reshaped_data = data.reshape((16, -1, 30))"
   ]
  },
  {
   "attachments": {},
   "cell_type": "markdown",
   "metadata": {},
   "source": []
  },
  {
   "cell_type": "code",
   "execution_count": 4,
   "metadata": {},
   "outputs": [],
   "source": [
    "birds = np.zeros((reshaped_data.shape[0], reshaped_data.shape[1]), dtype=int)\n",
    "\n",
    "for i in range(reshaped_data.shape[0]):\n",
    "    for j in range(reshaped_data.shape[1]):\n",
    "        counts = np.bincount(reshaped_data[i, j])\n",
    "        counts[0] = 0\n",
    "        birds[i, j] = np.argmax(counts)"
   ]
  },
  {
   "cell_type": "code",
   "execution_count": 5,
   "metadata": {},
   "outputs": [],
   "source": [
    "smoothed_data = reshaped_data.copy()\n",
    "\n",
    "for i in range(reshaped_data.shape[0]):\n",
    "    for j in range(reshaped_data.shape[1]):\n",
    "        smoothed_data[i, j][smoothed_data[i, j] != 0] = birds[i, j]"
   ]
  },
  {
   "cell_type": "code",
   "execution_count": 6,
   "metadata": {},
   "outputs": [],
   "source": [
    "smoothed_output = smoothed_data.reshape((16, -1))\n",
    "save_challenge('smoothing', smoothed_output)"
   ]
  },
  {
   "cell_type": "code",
   "execution_count": null,
   "metadata": {},
   "outputs": [],
   "source": []
  }
 ],
 "metadata": {
  "kernelspec": {
   "display_name": "Python 3",
   "language": "python",
   "name": "python3"
  },
  "language_info": {
   "codemirror_mode": {
    "name": "ipython",
    "version": 3
   },
   "file_extension": ".py",
   "mimetype": "text/x-python",
   "name": "python",
   "nbconvert_exporter": "python",
   "pygments_lexer": "ipython3",
   "version": "3.10.11"
  },
  "orig_nbformat": 4
 },
 "nbformat": 4,
 "nbformat_minor": 2
}
