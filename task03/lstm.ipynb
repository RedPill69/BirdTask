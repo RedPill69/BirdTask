{
 "cells": [
  {
   "cell_type": "code",
   "execution_count": 1,
   "metadata": {},
   "outputs": [],
   "source": [
    "import numpy as np\n",
    "from data_loader import load_dataset, load_challenge, save_challenge\n",
    "from torch import nn\n",
    "import torch\n",
    "from torch.utils.data import DataLoader, Dataset\n",
    "from sklearn.preprocessing import StandardScaler\n",
    "from eval_script import compute_revenue"
   ]
  },
  {
   "cell_type": "code",
   "execution_count": 2,
   "metadata": {},
   "outputs": [],
   "source": [
    "class BirdCrossEntropyLoss(nn.Module):\n",
    "    def __init__(self, device):\n",
    "        super(BirdCrossEntropyLoss, self).__init__()\n",
    "        self.rev_matrix = torch.tensor(np.array(\n",
    "            [[0.05, -0.2, -0.2, -0.2, -0.2, -0.2, -0.2],\n",
    "             [-0.25,  1., -0.3, -0.1, -0.1, -0.1, -0.1],\n",
    "                [-0.02, -0.1,  1., -0.1, -0.1, -0.1, -0.1],\n",
    "                [-0.25, -0.1, -0.3,  1., -0.1, -0.1, -0.1],\n",
    "                [-0.25, -0.1, -0.3, -0.1,  1., -0.1, -0.1],\n",
    "                [-0.25, -0.1, -0.3, -0.1, -0.1,  1., -0.1],\n",
    "                [-0.25, -0.1, -0.3, -0.1, -0.1, -0.1,  1.]])).to(device)\n",
    "        self.cet = nn.CrossEntropyLoss(reduction='none').to(device)\n",
    "\n",
    "\n",
    "    def forward(self, input, target):\n",
    "        ce_loss = self.cet(input.squeeze(), target.squeeze())\n",
    "\n",
    "        input_labels = torch.argmax(input, dim=2)\n",
    "        target_labels = torch.argmax(target, dim=2)\n",
    "        wanted = self.rev_matrix[target_labels, target_labels]\n",
    "        actual = self.rev_matrix[target_labels, input_labels]\n",
    "        cost = wanted - actual\n",
    "        custom_loss = cost * ce_loss\n",
    "\n",
    "        return custom_loss.mean()\n"
   ]
  },
  {
   "cell_type": "code",
   "execution_count": 3,
   "metadata": {},
   "outputs": [],
   "source": [
    "class BirdDataset(Dataset):\n",
    "    def __init__(self, birdset, is_train, device, scaler=None):\n",
    "        self.device = device\n",
    "        self.data = []\n",
    "        self.labels = []\n",
    "        for bird in birdset:\n",
    "            if is_train:\n",
    "                self.data += birdset[bird]['train_features']\n",
    "                self.labels += birdset[bird]['train_labels']\n",
    "            else:\n",
    "                self.data += birdset[bird]['test_features']\n",
    "                self.labels += birdset[bird]['test_labels']\n",
    "\n",
    "        hot_matrix = np.eye(7)\n",
    "        for i in range(len(self.labels)):\n",
    "            self.labels[i] = hot_matrix[self.labels[i]]\n",
    "\n",
    "        if scaler == None:\n",
    "            scaler = StandardScaler()\n",
    "            scaler.fit(np.concatenate(self.data))\n",
    "        self.scaler = scaler\n",
    "\n",
    "    def __len__(self):\n",
    "        return len(self.data)\n",
    "\n",
    "    def __getitem__(self, index):\n",
    "        x = torch.tensor(self.scaler.transform(\n",
    "            self.data[index])).to(self.device)\n",
    "        y = torch.tensor(self.labels[index]).to(self.device)\n",
    "        return x, y\n"
   ]
  },
  {
   "cell_type": "code",
   "execution_count": 4,
   "metadata": {},
   "outputs": [],
   "source": [
    "def train(dataloader, model, loss_fn, optimizer, progress_steps):\n",
    "    size = len(dataloader.dataset)\n",
    "    for batch, (X, y) in enumerate(dataloader):\n",
    "        # Compute prediction and loss\n",
    "        pred = model(X)\n",
    "        loss = loss_fn(pred, y)\n",
    "\n",
    "        # Backpropagation\n",
    "        optimizer.zero_grad()\n",
    "        loss.backward()\n",
    "        optimizer.step()\n",
    "\n",
    "        if progress_steps != None and batch % progress_steps == 0:\n",
    "            loss, current = loss.item(), (batch + 1) * len(X)\n",
    "            print(f\"loss: {loss:>7f}  [{current:>5d}/{size:>5d}]\")\n",
    "\n",
    "def test(dataloader, model, loss_fn, show_progress):\n",
    "    num_batches = len(dataloader)\n",
    "    test_loss = 0\n",
    "    money = 0\n",
    "    with torch.no_grad():\n",
    "        for X, y in dataloader:\n",
    "            pred = model(X)\n",
    "            test_loss += loss_fn(pred, y).item()\n",
    "            money += compute_revenue(torch.argmax(pred, dim=2).cpu(), torch.argmax(y, dim=2).cpu())\n",
    "\n",
    "    test_loss /= num_batches\n",
    "    if show_progress:\n",
    "        print(f\"Avg loss: {test_loss:>8f}, Money saved: {money:.2f}$\\n\")\n",
    "    return test_loss\n",
    "\n",
    "def eval(model_fn, train_dataloader, test_dataloader, device, max_epochs):\n",
    "    model = model_fn(None).to(device)\n",
    "    optimizer = torch.optim.SGD(model.parameters(), lr=0.01)\n",
    "    loss_fn = BirdCrossEntropyLoss(device)\n",
    "    lowest_test_loss = np.infty\n",
    "    stop_criterion = 0\n",
    "    for t in range(max_epochs):\n",
    "        if t % 10 == 0:\n",
    "            print(f\"Epoch {t+1}\\n-------------------------------\")\n",
    "        train(train_dataloader, model, loss_fn, optimizer, None)\n",
    "        test_loss = test(test_dataloader, model, loss_fn, True)\n",
    "        if test_loss > lowest_test_loss:\n",
    "            stop_criterion += 1\n",
    "        else:\n",
    "            lowest_test_loss = test_loss\n",
    "            stop_criterion = 0\n",
    "        if stop_criterion >= 5:\n",
    "            break\n",
    "    print(\"Estimated performance:\")\n",
    "    test(test_dataloader, model, loss_fn, True)\n",
    "    return model\n"
   ]
  },
  {
   "cell_type": "code",
   "execution_count": 5,
   "metadata": {},
   "outputs": [],
   "source": [
    "class LSTMModel(nn.Module):\n",
    "    def __init__(self, input_size, hidden_size, num_layers, num_classes):\n",
    "        super(LSTMModel, self).__init__()\n",
    "        self.hidden_size = hidden_size\n",
    "        self.num_layers = num_layers\n",
    "        self.lstm = nn.LSTM(input_size, hidden_size, num_layers, batch_first=True, bidirectional=True)\n",
    "        self.fc = nn.Linear(hidden_size * 2, num_classes)\n",
    "\n",
    "    def forward(self, x):\n",
    "        h0 = torch.zeros(self.num_layers * 2, x.size(0), self.hidden_size).to(x.device)\n",
    "        c0 = torch.zeros(self.num_layers * 2, x.size(0), self.hidden_size).to(x.device)\n",
    "        \n",
    "        out, _ = self.lstm(x, (h0, c0))\n",
    "        out = self.fc(out)\n",
    "        \n",
    "        return out\n",
    "\n",
    "model_fn = lambda _: LSTMModel(548, 128, 4, 7)"
   ]
  },
  {
   "cell_type": "code",
   "execution_count": 6,
   "metadata": {},
   "outputs": [],
   "source": [
    "dataset = load_dataset()"
   ]
  },
  {
   "cell_type": "code",
   "execution_count": 7,
   "metadata": {},
   "outputs": [],
   "source": [
    "device = 'cuda' if torch.cuda.is_available() else 'cpu' \n",
    "train_set = BirdDataset(dataset, True, device)\n",
    "scaler = train_set.scaler\n",
    "test_set = BirdDataset(dataset, False, device, scaler)\n",
    "train_loader = DataLoader(train_set, batch_size=1, shuffle=True)\n",
    "test_loader = DataLoader(test_set, batch_size=1, shuffle=True)"
   ]
  },
  {
   "cell_type": "code",
   "execution_count": 8,
   "metadata": {},
   "outputs": [
    {
     "name": "stdout",
     "output_type": "stream",
     "text": [
      "Epoch 1\n",
      "-------------------------------\n",
      "Avg loss: 0.523805, Money saved: 2525.64$\n",
      "\n",
      "Avg loss: 0.451668, Money saved: 2619.97$\n",
      "\n",
      "Avg loss: 0.297131, Money saved: 4138.76$\n",
      "\n",
      "Avg loss: 0.228710, Money saved: 4585.57$\n",
      "\n",
      "Avg loss: 0.220131, Money saved: 4471.00$\n",
      "\n",
      "Avg loss: 0.180145, Money saved: 4754.93$\n",
      "\n",
      "Avg loss: 0.164874, Money saved: 4838.11$\n",
      "\n",
      "Avg loss: 0.141943, Money saved: 5191.19$\n",
      "\n",
      "Avg loss: 0.146725, Money saved: 4714.63$\n",
      "\n",
      "Avg loss: 0.144384, Money saved: 4824.93$\n",
      "\n",
      "Epoch 11\n",
      "-------------------------------\n",
      "Avg loss: 0.135112, Money saved: 4908.15$\n",
      "\n",
      "Avg loss: 0.134380, Money saved: 5057.56$\n",
      "\n",
      "Avg loss: 0.136689, Money saved: 4806.41$\n",
      "\n",
      "Avg loss: 0.124440, Money saved: 5124.03$\n",
      "\n",
      "Avg loss: 0.119558, Money saved: 5090.25$\n",
      "\n",
      "Avg loss: 0.124497, Money saved: 4903.02$\n",
      "\n",
      "Avg loss: 0.120616, Money saved: 5298.52$\n",
      "\n",
      "Avg loss: 0.111558, Money saved: 5315.71$\n",
      "\n",
      "Avg loss: 0.109643, Money saved: 5236.08$\n",
      "\n",
      "Avg loss: 0.107921, Money saved: 5359.11$\n",
      "\n",
      "Epoch 21\n",
      "-------------------------------\n",
      "Avg loss: 0.115116, Money saved: 5135.97$\n",
      "\n",
      "Avg loss: 0.108034, Money saved: 5284.65$\n",
      "\n",
      "Avg loss: 0.102153, Money saved: 5533.25$\n",
      "\n",
      "Avg loss: 0.112550, Money saved: 5192.29$\n",
      "\n",
      "Avg loss: 0.107361, Money saved: 5475.15$\n",
      "\n",
      "Avg loss: 0.109784, Money saved: 5275.95$\n",
      "\n",
      "Avg loss: 0.108350, Money saved: 5472.39$\n",
      "\n",
      "Avg loss: 0.107503, Money saved: 5459.33$\n",
      "\n",
      "Estimated performance:\n",
      "Avg loss: 0.107503, Money saved: 5459.33$\n",
      "\n"
     ]
    }
   ],
   "source": [
    "model = eval(model_fn, train_loader, test_loader, device, 500)"
   ]
  },
  {
   "cell_type": "code",
   "execution_count": 9,
   "metadata": {},
   "outputs": [],
   "source": [
    "torch.save(model.state_dict(), 'lstm')"
   ]
  },
  {
   "cell_type": "code",
   "execution_count": 10,
   "metadata": {},
   "outputs": [
    {
     "name": "stdout",
     "output_type": "stream",
     "text": [
      "(16, 3000, 548)\n"
     ]
    }
   ],
   "source": [
    "challenge = load_challenge()\n",
    "print(challenge.shape)"
   ]
  },
  {
   "cell_type": "code",
   "execution_count": 12,
   "metadata": {},
   "outputs": [
    {
     "name": "stdout",
     "output_type": "stream",
     "text": [
      "[[0 0 0 ... 0 0 0]\n",
      " [0 0 0 ... 0 0 0]\n",
      " [0 0 0 ... 3 3 0]\n",
      " ...\n",
      " [0 0 0 ... 0 0 0]\n",
      " [0 0 0 ... 6 6 0]\n",
      " [0 0 0 ... 0 0 0]] (16, 3000)\n"
     ]
    }
   ],
   "source": [
    "model = model_fn(None)\n",
    "model.load_state_dict(torch.load('lstm'))\n",
    "model.eval()\n",
    "\n",
    "model = model.to(device)\n",
    "results = torch.Tensor(np.empty((challenge.shape[0], challenge.shape[1]))).to(device)\n",
    "for i in range(challenge.shape[0]):\n",
    "    challenge_subset = challenge[i]\n",
    "    challenge_subset = scaler.transform(challenge_subset)\n",
    "    challenge_subset = torch.Tensor(challenge_subset).unsqueeze(0).to(device)\n",
    "    preds = model(challenge_subset).squeeze()\n",
    "    pred_labels = torch.argmax(preds, dim=1)\n",
    "    results[i, :] = pred_labels\n",
    "results = results.int().cpu().numpy()\n",
    "print(results, results.shape)\n",
    "save_challenge('lstm', results)"
   ]
  },
  {
   "cell_type": "code",
   "execution_count": null,
   "metadata": {},
   "outputs": [],
   "source": []
  }
 ],
 "metadata": {
  "kernelspec": {
   "display_name": "mlpc",
   "language": "python",
   "name": "python3"
  },
  "language_info": {
   "codemirror_mode": {
    "name": "ipython",
    "version": 3
   },
   "file_extension": ".py",
   "mimetype": "text/x-python",
   "name": "python",
   "nbconvert_exporter": "python",
   "pygments_lexer": "ipython3",
   "version": "3.9.16"
  },
  "orig_nbformat": 4
 },
 "nbformat": 4,
 "nbformat_minor": 2
}
