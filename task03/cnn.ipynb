{
 "cells": [
  {
   "cell_type": "code",
   "execution_count": 1,
   "metadata": {},
   "outputs": [],
   "source": [
    "import numpy as np\n",
    "from data_loader import load_dataset, load_challenge, save_challenge\n",
    "from torch import nn\n",
    "import torch\n",
    "from torch.utils.data import DataLoader, Dataset\n",
    "from sklearn.preprocessing import StandardScaler\n",
    "from eval_script import compute_revenue"
   ]
  },
  {
   "cell_type": "code",
   "execution_count": 2,
   "metadata": {},
   "outputs": [],
   "source": [
    "class BirdCrossEntropyLoss(nn.Module):\n",
    "    def __init__(self, device):\n",
    "        super(BirdCrossEntropyLoss, self).__init__()\n",
    "        self.rev_matrix = torch.tensor(np.array(\n",
    "            [[0.05, -0.2, -0.2, -0.2, -0.2, -0.2, -0.2],\n",
    "             [-0.25,  1., -0.3, -0.1, -0.1, -0.1, -0.1],\n",
    "                [-0.02, -0.1,  1., -0.1, -0.1, -0.1, -0.1],\n",
    "                [-0.25, -0.1, -0.3,  1., -0.1, -0.1, -0.1],\n",
    "                [-0.25, -0.1, -0.3, -0.1,  1., -0.1, -0.1],\n",
    "                [-0.25, -0.1, -0.3, -0.1, -0.1,  1., -0.1],\n",
    "                [-0.25, -0.1, -0.3, -0.1, -0.1, -0.1,  1.]])).to(device)\n",
    "        self.cet = nn.CrossEntropyLoss(reduction='none').to(device)\n",
    "\n",
    "\n",
    "    def forward(self, input, target):\n",
    "        ce_loss = self.cet(input, target)\n",
    "\n",
    "        input_labels = torch.argmax(input, dim=1)\n",
    "        target_labels = torch.argmax(target, dim=1)\n",
    "        wanted = self.rev_matrix[target_labels, target_labels]\n",
    "        actual = self.rev_matrix[target_labels, input_labels]\n",
    "        cost = wanted - actual\n",
    "        custom_loss = cost * ce_loss\n",
    "\n",
    "        return custom_loss.mean()\n"
   ]
  },
  {
   "cell_type": "code",
   "execution_count": 3,
   "metadata": {},
   "outputs": [],
   "source": [
    "class BirdDataset(Dataset):\n",
    "    def __init__(self, birdset, is_train, device, offset, scaler=None):\n",
    "        self.device = device\n",
    "        self.offset = offset\n",
    "        self.data = np.empty((0, 548), dtype=np.float32)\n",
    "        self.labels = np.empty((0), dtype=int)\n",
    "        for bird in birdset:\n",
    "            if is_train:\n",
    "                self.data = np.concatenate(\n",
    "                    (self.data, np.concatenate(birdset[bird]['train_features'])))\n",
    "                self.labels = np.concatenate(\n",
    "                    (self.labels, np.concatenate(birdset[bird]['train_labels'])))\n",
    "            else:\n",
    "                self.data = np.concatenate(\n",
    "                    (self.data, np.concatenate(birdset[bird]['test_features'])))\n",
    "                self.labels = np.concatenate(\n",
    "                    (self.labels, np.concatenate(birdset[bird]['test_labels'])))\n",
    "\n",
    "        self.data = np.concatenate((np.zeros((offset, 548)), self.data, np.zeros((offset, 548))))\n",
    "\n",
    "        hot_matrix = np.eye(7)\n",
    "        self.labels = hot_matrix[self.labels]\n",
    "\n",
    "        if scaler == None:\n",
    "            scaler = StandardScaler()\n",
    "            scaler.fit(self.data)\n",
    "        self.scaler = scaler\n",
    "\n",
    "        self.data = torch.tensor(\n",
    "            self.scaler.transform(self.data), dtype=torch.float32).to(self.device)\n",
    "        self.labels = torch.tensor(self.labels).to(self.device)\n",
    "\n",
    "    def __len__(self):\n",
    "        return len(self.labels)\n",
    "\n",
    "    def __getitem__(self, index):\n",
    "        x = self.data[index:index+self.offset*2+1].unsqueeze(0)\n",
    "        y = self.labels[index]\n",
    "        return x, y\n"
   ]
  },
  {
   "cell_type": "code",
   "execution_count": 4,
   "metadata": {},
   "outputs": [],
   "source": [
    "def train(dataloader, model, loss_fn, optimizer, progress_steps):\n",
    "    size = len(dataloader.dataset)\n",
    "    for batch, (X, y) in enumerate(dataloader):\n",
    "        # Compute prediction and loss\n",
    "        pred = model(X)\n",
    "        loss = loss_fn(pred, y)\n",
    "\n",
    "        # Backpropagation\n",
    "        optimizer.zero_grad()\n",
    "        loss.backward()\n",
    "        optimizer.step()\n",
    "\n",
    "        if progress_steps != None and batch % progress_steps == 0:\n",
    "            loss, current = loss.item(), (batch + 1) * len(X)\n",
    "            print(f\"loss: {loss:>7f}  [{current:>5d}/{size:>5d}]\")\n",
    "\n",
    "def test(dataloader, model, loss_fn, show_progress):\n",
    "    num_batches = len(dataloader)\n",
    "    test_loss = 0\n",
    "    money = 0\n",
    "    with torch.no_grad():\n",
    "        for X, y in dataloader:\n",
    "            pred = model(X)\n",
    "            test_loss += loss_fn(pred, y).item()\n",
    "            money += compute_revenue(torch.argmax(pred, dim=1).cpu(), torch.argmax(y, dim=1).cpu())\n",
    "\n",
    "    test_loss /= num_batches\n",
    "    if show_progress:\n",
    "        print(f\"Avg loss: {test_loss:>8f}, Money saved: {money:.2f}$\\n\")\n",
    "    return test_loss\n",
    "\n",
    "def eval(model_fn, train_dataloader, test_dataloader, device, max_epochs):\n",
    "    model = model_fn(None).to(device)\n",
    "    optimizer = torch.optim.SGD(model.parameters(), lr=0.01)\n",
    "    loss_fn = BirdCrossEntropyLoss(device)\n",
    "    lowest_test_loss = np.infty\n",
    "    stop_criterion = 0\n",
    "    for t in range(max_epochs):\n",
    "        if t % 10 == 0:\n",
    "            print(f\"Epoch {t+1}\\n-------------------------------\")\n",
    "        train(train_dataloader, model, loss_fn, optimizer, None)\n",
    "        test_loss = test(test_dataloader, model, loss_fn, True)\n",
    "        if test_loss > lowest_test_loss:\n",
    "            stop_criterion += 1\n",
    "        else:\n",
    "            lowest_test_loss = test_loss\n",
    "            stop_criterion = 0\n",
    "        if stop_criterion >= 10:\n",
    "            break\n",
    "    print(\"Estimated performance:\")\n",
    "    test(test_dataloader, model, loss_fn, True)\n",
    "    return model\n"
   ]
  },
  {
   "cell_type": "code",
   "execution_count": 5,
   "metadata": {},
   "outputs": [],
   "source": [
    "offset = 5\n",
    "\n",
    "model_fn = lambda _: nn.Sequential(\n",
    "        nn.Conv2d(1, 16, kernel_size=(3, 1), stride=1), #input = 1*11*548\n",
    "        nn.ReLU(),\n",
    "        nn.MaxPool2d(kernel_size=(2, 1), stride=(2, 1)), #input = 16*9*548\n",
    "        nn.Conv2d(16, 32, kernel_size=(3, 1), stride=1), #input = 16*4*548\n",
    "        nn.ReLU(),\n",
    "        nn.MaxPool2d(kernel_size=(2, 1), stride=(2, 1)), #input = 32*2*548\n",
    "        nn.Flatten(),\n",
    "        nn.Linear(32 * 1 * 548, 64), #input = 32*3*548\n",
    "        nn.ReLU(),\n",
    "        nn.Linear(64, 7)\n",
    "    )\n",
    "\n",
    "class PrintDimension(nn.Module):\n",
    "    def forward(self, x):\n",
    "        print(\"Current dimension:\", x.shape)\n",
    "        return x"
   ]
  },
  {
   "cell_type": "code",
   "execution_count": 6,
   "metadata": {},
   "outputs": [],
   "source": [
    "dataset = load_dataset()"
   ]
  },
  {
   "cell_type": "code",
   "execution_count": 7,
   "metadata": {},
   "outputs": [],
   "source": [
    "device = 'cuda' if torch.cuda.is_available() else 'cpu' \n",
    "train_set = BirdDataset(dataset, True, device, offset)\n",
    "scaler = train_set.scaler\n",
    "test_set = BirdDataset(dataset, False, device, offset, scaler)\n",
    "train_loader = DataLoader(train_set, batch_size=32, shuffle=True)\n",
    "test_loader = DataLoader(test_set, batch_size=32, shuffle=True)"
   ]
  },
  {
   "cell_type": "code",
   "execution_count": 39,
   "metadata": {},
   "outputs": [
    {
     "name": "stdout",
     "output_type": "stream",
     "text": [
      "Epoch 1\n",
      "-------------------------------\n",
      "Avg loss: 0.118117, Money saved: 5464.55$\n",
      "\n",
      "Avg loss: 0.133810, Money saved: 4496.86$\n",
      "\n",
      "Avg loss: 0.090139, Money saved: 5655.99$\n",
      "\n",
      "Avg loss: 0.102407, Money saved: 6028.48$\n",
      "\n",
      "Avg loss: 0.100378, Money saved: 5206.64$\n",
      "\n",
      "Avg loss: 0.081915, Money saved: 5980.05$\n",
      "\n",
      "Avg loss: 0.084232, Money saved: 5773.87$\n",
      "\n",
      "Avg loss: 0.076624, Money saved: 6117.06$\n",
      "\n",
      "Avg loss: 0.080090, Money saved: 5806.75$\n",
      "\n",
      "Avg loss: 0.090759, Money saved: 5421.19$\n",
      "\n",
      "Epoch 11\n",
      "-------------------------------\n",
      "Avg loss: 0.083019, Money saved: 5770.24$\n",
      "\n",
      "Avg loss: 0.089436, Money saved: 5559.62$\n",
      "\n",
      "Avg loss: 0.079662, Money saved: 5735.29$\n",
      "\n",
      "Avg loss: 0.079726, Money saved: 6051.39$\n",
      "\n",
      "Avg loss: 0.072406, Money saved: 6179.35$\n",
      "\n",
      "Avg loss: 0.076321, Money saved: 5918.93$\n",
      "\n",
      "Avg loss: 0.076910, Money saved: 5858.78$\n",
      "\n",
      "Avg loss: 0.076403, Money saved: 5859.90$\n",
      "\n",
      "Avg loss: 0.090369, Money saved: 5435.05$\n",
      "\n",
      "Avg loss: 0.082389, Money saved: 5590.60$\n",
      "\n",
      "Epoch 21\n",
      "-------------------------------\n",
      "Avg loss: 0.080186, Money saved: 5789.43$\n",
      "\n",
      "Avg loss: 0.099396, Money saved: 5136.62$\n",
      "\n",
      "Avg loss: 0.081168, Money saved: 5787.90$\n",
      "\n",
      "Avg loss: 0.094904, Money saved: 5297.53$\n",
      "\n",
      "Avg loss: 0.086265, Money saved: 5691.46$\n",
      "\n",
      "Estimated performance:\n",
      "Avg loss: 0.086265, Money saved: 5691.46$\n",
      "\n"
     ]
    }
   ],
   "source": [
    "model = eval(model_fn, train_loader, test_loader, device, 500)"
   ]
  },
  {
   "cell_type": "code",
   "execution_count": 40,
   "metadata": {},
   "outputs": [],
   "source": [
    "torch.save(model.state_dict(), 'cnn')"
   ]
  },
  {
   "cell_type": "code",
   "execution_count": 8,
   "metadata": {},
   "outputs": [
    {
     "name": "stdout",
     "output_type": "stream",
     "text": [
      "(16, 3000, 548)\n"
     ]
    }
   ],
   "source": [
    "challenge = load_challenge()\n",
    "print(challenge.shape)"
   ]
  },
  {
   "cell_type": "code",
   "execution_count": 12,
   "metadata": {},
   "outputs": [
    {
     "name": "stdout",
     "output_type": "stream",
     "text": [
      "[[5 5 5 ... 1 0 0]\n",
      " [0 0 0 ... 0 0 0]\n",
      " [0 0 0 ... 3 3 3]\n",
      " ...\n",
      " [0 0 0 ... 0 0 0]\n",
      " [0 0 0 ... 6 6 6]\n",
      " [0 0 0 ... 0 0 0]] (16, 3000)\n"
     ]
    }
   ],
   "source": [
    "model = model_fn(None)\n",
    "model.load_state_dict(torch.load('cnn'))\n",
    "model.eval()\n",
    "\n",
    "model = model.to(device)\n",
    "results = torch.Tensor(np.empty((challenge.shape[0], challenge.shape[1]))).to(device)\n",
    "for i in range(challenge.shape[0]):\n",
    "    challenge_subset = challenge[i]\n",
    "    challenge_subset = scaler.transform(challenge_subset)\n",
    "    tmp = np.empty((len(challenge_subset), 11, 548))\n",
    "    size = len(challenge_subset)\n",
    "    challenge_subset = np.concatenate((np.zeros((offset, 548)), challenge_subset, np.zeros((offset, 548))))\n",
    "    for a in range(size):\n",
    "        tmp[a] = challenge_subset[a:a+offset*2+1]\n",
    "    challenge_subset = torch.Tensor(tmp).unsqueeze(1).to(device)\n",
    "    preds = model(challenge_subset).squeeze()\n",
    "    pred_labels = torch.argmax(preds, dim=1)\n",
    "    results[i, :] = pred_labels\n",
    "results = results.int().cpu().numpy()\n",
    "print(results, results.shape)\n",
    "save_challenge('cnn', results)"
   ]
  },
  {
   "cell_type": "code",
   "execution_count": null,
   "metadata": {},
   "outputs": [],
   "source": []
  }
 ],
 "metadata": {
  "kernelspec": {
   "display_name": "mlpc",
   "language": "python",
   "name": "python3"
  },
  "language_info": {
   "codemirror_mode": {
    "name": "ipython",
    "version": 3
   },
   "file_extension": ".py",
   "mimetype": "text/x-python",
   "name": "python",
   "nbconvert_exporter": "python",
   "pygments_lexer": "ipython3",
   "version": "3.9.16"
  },
  "orig_nbformat": 4
 },
 "nbformat": 4,
 "nbformat_minor": 2
}
