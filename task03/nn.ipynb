{
 "cells": [
  {
   "cell_type": "code",
   "execution_count": 1,
   "metadata": {},
   "outputs": [],
   "source": [
    "import numpy as np\n",
    "from data_loader import load_dataset, load_challenge, save_challenge\n",
    "from torch import nn\n",
    "import torch\n",
    "from torch.utils.data import DataLoader, Dataset\n",
    "from sklearn.preprocessing import StandardScaler\n",
    "from eval_script import compute_revenue"
   ]
  },
  {
   "cell_type": "code",
   "execution_count": 2,
   "metadata": {},
   "outputs": [],
   "source": [
    "class BirdCrossEntropyLoss(nn.Module):\n",
    "    def __init__(self, device):\n",
    "        super(BirdCrossEntropyLoss, self).__init__()\n",
    "        self.rev_matrix = torch.tensor(np.array(\n",
    "            [[0.05, -0.2, -0.2, -0.2, -0.2, -0.2, -0.2],\n",
    "             [-0.25,  1., -0.3, -0.1, -0.1, -0.1, -0.1],\n",
    "                [-0.02, -0.1,  1., -0.1, -0.1, -0.1, -0.1],\n",
    "                [-0.25, -0.1, -0.3,  1., -0.1, -0.1, -0.1],\n",
    "                [-0.25, -0.1, -0.3, -0.1,  1., -0.1, -0.1],\n",
    "                [-0.25, -0.1, -0.3, -0.1, -0.1,  1., -0.1],\n",
    "                [-0.25, -0.1, -0.3, -0.1, -0.1, -0.1,  1.]])).to(device)\n",
    "        self.cet = nn.CrossEntropyLoss(reduction='none').to(device)\n",
    "\n",
    "\n",
    "    def forward(self, input, target):\n",
    "        ce_loss = self.cet(input, target)\n",
    "\n",
    "        input_labels = torch.argmax(input, dim=1)\n",
    "        target_labels = torch.argmax(target, dim=1)\n",
    "        wanted = self.rev_matrix[target_labels, target_labels]\n",
    "        actual = self.rev_matrix[target_labels, input_labels]\n",
    "        cost = wanted - actual\n",
    "        custom_loss = (1 + cost) * ce_loss\n",
    "\n",
    "        return custom_loss.mean()\n"
   ]
  },
  {
   "cell_type": "code",
   "execution_count": 3,
   "metadata": {},
   "outputs": [],
   "source": [
    "class BirdDataset(Dataset):\n",
    "    def __init__(self, birdset, is_train, device, scaler=None):\n",
    "        self.device = device\n",
    "        self.data = np.empty((0, 548), dtype=np.float32)\n",
    "        self.labels = np.empty((0), dtype=int)\n",
    "        for bird in birdset:\n",
    "            if is_train:\n",
    "                self.data = np.concatenate(\n",
    "                    (self.data, np.concatenate(birdset[bird]['train_features'])))\n",
    "                self.labels = np.concatenate(\n",
    "                    (self.labels, np.concatenate(birdset[bird]['train_labels'])))\n",
    "            else:\n",
    "                self.data = np.concatenate(\n",
    "                    (self.data, np.concatenate(birdset[bird]['test_features'])))\n",
    "                self.labels = np.concatenate(\n",
    "                    (self.labels, np.concatenate(birdset[bird]['test_labels'])))\n",
    "\n",
    "        hot_matrix = np.eye(7)\n",
    "        self.labels = hot_matrix[self.labels]\n",
    "\n",
    "        if scaler == None:\n",
    "            scaler = StandardScaler()\n",
    "            scaler.fit(self.data)\n",
    "        self.scaler = scaler\n",
    "\n",
    "        self.data = torch.tensor(\n",
    "            self.scaler.transform(self.data)).to(self.device)\n",
    "        self.labels = torch.tensor(self.labels).to(self.device)\n",
    "\n",
    "    def __len__(self):\n",
    "        return len(self.data)\n",
    "\n",
    "    def __getitem__(self, index):\n",
    "        x = self.data[index]\n",
    "        y = self.labels[index]\n",
    "        return x, y\n"
   ]
  },
  {
   "cell_type": "code",
   "execution_count": 4,
   "metadata": {},
   "outputs": [],
   "source": [
    "def train(dataloader, model, loss_fn, optimizer, progress_steps):\n",
    "    size = len(dataloader.dataset)\n",
    "    for batch, (X, y) in enumerate(dataloader):\n",
    "        # Compute prediction and loss\n",
    "        pred = model(X)\n",
    "        loss = loss_fn(pred, y)\n",
    "\n",
    "        # Backpropagation\n",
    "        optimizer.zero_grad()\n",
    "        loss.backward()\n",
    "        optimizer.step()\n",
    "\n",
    "        if progress_steps != None and batch % progress_steps == 0:\n",
    "            loss, current = loss.item(), (batch + 1) * len(X)\n",
    "            print(f\"loss: {loss:>7f}  [{current:>5d}/{size:>5d}]\")\n",
    "\n",
    "def test(dataloader, model, loss_fn, show_progress):\n",
    "    num_batches = len(dataloader)\n",
    "    test_loss = 0\n",
    "    money = 0\n",
    "    with torch.no_grad():\n",
    "        for X, y in dataloader:\n",
    "            pred = model(X)\n",
    "            test_loss += loss_fn(pred, y).item()\n",
    "            money += compute_revenue(torch.argmax(pred, dim=1).cpu(), torch.argmax(y, dim=1).cpu())\n",
    "\n",
    "    test_loss /= num_batches\n",
    "    if show_progress:\n",
    "        print(f\"Avg loss: {test_loss:>8f}, Money saved: {money:.2f}$\\n\")\n",
    "    return test_loss\n",
    "\n",
    "def eval(model_fn, train_dataloader, test_dataloader, device, max_epochs):\n",
    "    model = model_fn(None).to(device)\n",
    "    optimizer = torch.optim.SGD(model.parameters(), lr=0.01)\n",
    "    loss_fn = BirdCrossEntropyLoss(device)\n",
    "    lowest_test_loss = np.infty\n",
    "    stop_criterion = 0\n",
    "    for t in range(max_epochs):\n",
    "        if t % 10 == 0:\n",
    "            print(f\"Epoch {t+1}\\n-------------------------------\")\n",
    "        train(train_dataloader, model, loss_fn, optimizer, None)\n",
    "        test_loss = test(test_dataloader, model, loss_fn, True)\n",
    "        if test_loss > lowest_test_loss:\n",
    "            stop_criterion += 1\n",
    "        else:\n",
    "            lowest_test_loss = test_loss\n",
    "            stop_criterion = 0\n",
    "        if stop_criterion >= 5:\n",
    "            break\n",
    "    print(\"Estimated performance:\")\n",
    "    test(test_dataloader, model, loss_fn, True)\n",
    "    return model\n"
   ]
  },
  {
   "cell_type": "code",
   "execution_count": 5,
   "metadata": {},
   "outputs": [],
   "source": [
    "model_fn = lambda _: nn.Sequential(\n",
    "        nn.Linear(548, 256),\n",
    "        nn.ReLU(),\n",
    "        nn.Linear(256, 256),\n",
    "        nn.ReLU(),\n",
    "        nn.Linear(256, 7)\n",
    "    )"
   ]
  },
  {
   "cell_type": "code",
   "execution_count": 6,
   "metadata": {},
   "outputs": [],
   "source": [
    "dataset = load_dataset()"
   ]
  },
  {
   "cell_type": "code",
   "execution_count": 7,
   "metadata": {},
   "outputs": [],
   "source": [
    "device = 'cuda' if torch.cuda.is_available() else 'cpu' \n",
    "train_set = BirdDataset(dataset, True, device)\n",
    "scaler = train_set.scaler\n",
    "test_set = BirdDataset(dataset, False, device, scaler)\n",
    "train_loader = DataLoader(train_set, batch_size=64, shuffle=True)\n",
    "test_loader = DataLoader(test_set, batch_size=64, shuffle=True)"
   ]
  },
  {
   "cell_type": "code",
   "execution_count": 8,
   "metadata": {},
   "outputs": [
    {
     "name": "stdout",
     "output_type": "stream",
     "text": [
      "Epoch 1\n",
      "-------------------------------\n",
      "Avg loss: 0.608074, Money saved: 4355.40$\n",
      "\n",
      "Avg loss: 0.510286, Money saved: 4845.30$\n",
      "\n",
      "Avg loss: 0.469797, Money saved: 4964.57$\n",
      "\n",
      "Avg loss: 0.452655, Money saved: 5063.52$\n",
      "\n",
      "Avg loss: 0.431026, Money saved: 5236.18$\n",
      "\n",
      "Avg loss: 0.415138, Money saved: 5294.99$\n",
      "\n",
      "Avg loss: 0.397247, Money saved: 5304.49$\n",
      "\n",
      "Avg loss: 0.446311, Money saved: 5288.33$\n",
      "\n",
      "Avg loss: 0.384289, Money saved: 5473.78$\n",
      "\n",
      "Avg loss: 0.388345, Money saved: 5425.43$\n",
      "\n",
      "Epoch 11\n",
      "-------------------------------\n",
      "Avg loss: 0.413119, Money saved: 5168.27$\n",
      "\n",
      "Avg loss: 0.391094, Money saved: 5424.23$\n",
      "\n",
      "Avg loss: 0.412036, Money saved: 5161.85$\n",
      "\n",
      "Avg loss: 0.405729, Money saved: 5317.48$\n",
      "\n",
      "Estimated performance:\n",
      "Avg loss: 0.406381, Money saved: 5317.48$\n",
      "\n"
     ]
    }
   ],
   "source": [
    "model = eval(model_fn, train_loader, test_loader, device, 500)"
   ]
  },
  {
   "cell_type": "code",
   "execution_count": 12,
   "metadata": {},
   "outputs": [],
   "source": [
    "torch.save(model.state_dict(), 'Models/nn')"
   ]
  },
  {
   "cell_type": "code",
   "execution_count": 13,
   "metadata": {},
   "outputs": [
    {
     "name": "stdout",
     "output_type": "stream",
     "text": [
      "(16, 3000, 548)\n"
     ]
    }
   ],
   "source": [
    "challenge = load_challenge()\n",
    "print(challenge.shape)"
   ]
  },
  {
   "cell_type": "code",
   "execution_count": 14,
   "metadata": {},
   "outputs": [
    {
     "name": "stdout",
     "output_type": "stream",
     "text": [
      "[[0 0 0 ... 0 0 0]\n",
      " [0 0 0 ... 0 0 0]\n",
      " [0 0 0 ... 3 3 3]\n",
      " ...\n",
      " [0 0 0 ... 0 0 0]\n",
      " [0 0 0 ... 6 0 0]\n",
      " [0 0 0 ... 0 0 0]] (16, 3000)\n"
     ]
    }
   ],
   "source": [
    "model = model_fn(None)\n",
    "model.load_state_dict(torch.load('Models/nn'))\n",
    "model.eval()\n",
    "\n",
    "model = model.to(device)\n",
    "results = torch.Tensor(np.empty((challenge.shape[0], challenge.shape[1]))).to(device)\n",
    "for i in range(challenge.shape[0]):\n",
    "    challenge_subset = challenge[i]\n",
    "    challenge_subset = scaler.transform(challenge_subset)\n",
    "    challenge_subset = torch.Tensor(challenge_subset).unsqueeze(0).to(device)\n",
    "    preds = model(challenge_subset).squeeze()\n",
    "    pred_labels = torch.argmax(preds, dim=1)\n",
    "    results[i, :] = pred_labels\n",
    "results = results.int().cpu().numpy()\n",
    "print(results, results.shape)\n",
    "save_challenge('nn', results)"
   ]
  },
  {
   "cell_type": "code",
   "execution_count": null,
   "metadata": {},
   "outputs": [],
   "source": []
  }
 ],
 "metadata": {
  "kernelspec": {
   "display_name": "mlpc",
   "language": "python",
   "name": "python3"
  },
  "language_info": {
   "codemirror_mode": {
    "name": "ipython",
    "version": 3
   },
   "file_extension": ".py",
   "mimetype": "text/x-python",
   "name": "python",
   "nbconvert_exporter": "python",
   "pygments_lexer": "ipython3",
   "version": "3.9.16"
  },
  "orig_nbformat": 4
 },
 "nbformat": 4,
 "nbformat_minor": 2
}
