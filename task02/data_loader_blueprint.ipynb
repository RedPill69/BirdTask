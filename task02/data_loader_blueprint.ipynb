{
 "cells": [
  {
   "cell_type": "code",
   "execution_count": 1,
   "metadata": {},
   "outputs": [],
   "source": [
    "import numpy as np\n",
    "from sklearn.model_selection import StratifiedKFold\n",
    "from data_loader import load"
   ]
  },
  {
   "cell_type": "code",
   "execution_count": 2,
   "metadata": {},
   "outputs": [
    {
     "name": "stdout",
     "output_type": "stream",
     "text": [
      "(96000, 548) (96000,) (96000,) (24000, 548) (24000,)\n"
     ]
    }
   ],
   "source": [
    "#X_train, y_train: use for training and validating\n",
    "#stratify_criterion: used to make sure each fold in cross validation has the same annotator agreement distribution\n",
    "#X_test, y_test: only use for estimating final performance, prof really emphasized this (weird kink but ok)\n",
    "X_train, y_train, stratify_criterion, X_test, y_test = load()\n",
    "\n",
    "print(X_train.shape, y_train.shape, stratify_criterion.shape, X_test.shape, y_test.shape)"
   ]
  },
  {
   "cell_type": "code",
   "execution_count": 3,
   "metadata": {},
   "outputs": [],
   "source": [
    "skf = StratifiedKFold(5)\n",
    "for i, (train_index, validate_index) in enumerate(skf.split(X_train, stratify_criterion)):\n",
    "    X_fold = X_train[train_index]\n",
    "    y_fold = y_train[train_index]\n",
    "    X_validate = X_train[validate_index]\n",
    "    y_validate = y_train[validate_index]\n",
    "\n",
    "    #train with X_fold and y_fold, compute perforamnce metric with X_validate and y_validate\n",
    "\n",
    "#estimate actual performance on best classifier with X_test and y_test\n"
   ]
  },
  {
   "cell_type": "code",
   "execution_count": null,
   "metadata": {},
   "outputs": [],
   "source": []
  }
 ],
 "metadata": {
  "kernelspec": {
   "display_name": "mlpc",
   "language": "python",
   "name": "python3"
  },
  "language_info": {
   "codemirror_mode": {
    "name": "ipython",
    "version": 3
   },
   "file_extension": ".py",
   "mimetype": "text/x-python",
   "name": "python",
   "nbconvert_exporter": "python",
   "pygments_lexer": "ipython3",
   "version": "3.9.15"
  },
  "orig_nbformat": 4
 },
 "nbformat": 4,
 "nbformat_minor": 2
}
